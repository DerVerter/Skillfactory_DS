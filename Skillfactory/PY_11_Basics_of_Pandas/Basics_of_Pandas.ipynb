{
 "cells": [
  {
   "cell_type": "code",
   "execution_count": 1,
   "metadata": {},
   "outputs": [],
   "source": [
    "import pandas as pd"
   ]
  },
  {
   "cell_type": "code",
   "execution_count": 26,
   "metadata": {},
   "outputs": [
    {
     "data": {
      "text/plain": [
       "76          NaN\n",
       "172      1678.0\n",
       "565      2767.0\n",
       "566         0.0\n",
       "613       290.0\n",
       "          ...  \n",
       "17447      22.0\n",
       "17567      14.0\n",
       "17617       6.0\n",
       "17890      32.0\n",
       "18104      33.0\n",
       "Name: Time, Length: 284, dtype: float64"
      ]
     },
     "metadata": {},
     "output_type": "display_data"
    },
    {
     "name": "stdout",
     "output_type": "stream",
     "text": [
      "68.92932862190813\n"
     ]
    }
   ],
   "source": [
    "ufo_db = pd.read_csv('data/ufo.csv', sep=',')\n",
    "ufo_db['Time'] = pd.to_datetime(ufo_db['Time'])\n",
    "mask = ufo_db['State'] == 'NV'\n",
    "ufo_nv = ufo_db[mask]\n",
    "res = ufo_nv['Time'].dt.date.diff()\n",
    "resu = res.dt.days\n",
    "display(resu)\n",
    "print(resu.mean())\n"
   ]
  },
  {
   "cell_type": "code",
   "execution_count": 75,
   "metadata": {},
   "outputs": [
    {
     "data": {
      "text/plain": [
       "9.480411004308916"
      ]
     },
     "execution_count": 75,
     "metadata": {},
     "output_type": "execute_result"
    }
   ],
   "source": [
    "bike_df = pd.read_csv('data/citibike-tripdata.csv', sep=',')\n",
    "bike_df = bike_df.drop('start station id', axis=1)\n",
    "bike_df = bike_df.drop('end station id', axis=1)\n",
    "\n",
    "bike_df['age'] = 2018 - bike_df['birth year']\n",
    "bike_df = bike_df.drop('birth year', axis=1)\n",
    "\n",
    "bike_df['starttime'] = pd.to_datetime(bike_df['starttime'])\n",
    "bike_df['stoptime'] = pd.to_datetime(bike_df['stoptime'])\n",
    "\n",
    "bike_df['trip duration'] = bike_df['stoptime'] - bike_df['starttime']\n",
    "\n",
    "bike_df['weekend'] = bike_df['starttime'].dt.dayofweek.apply(lambda x: 1 if x in [5, 6] else 0)\n",
    "\n",
    "def daytime(arg):\n",
    "    if arg in [0, 1, 2, 3, 4, 5, 6]: return 'night'\n",
    "    elif arg in [7, 8, 9, 10, 11, 12]: return 'morning'\n",
    "    elif arg in [13, 14, 15, 16, 17, 18]: return 'day'\n",
    "    else: return 'evening'\n",
    "    \n",
    "bike_df['time_of_day'] = bike_df['starttime'].dt.hour.apply(daytime)\n",
    "\n",
    "bike_df['time_of_day'].value_counts()['day'] / bike_df['time_of_day'].value_counts()['night']\n",
    "\n",
    "\n",
    "\n"
   ]
  }
 ],
 "metadata": {
  "kernelspec": {
   "display_name": "Python 3",
   "language": "python",
   "name": "python3"
  },
  "language_info": {
   "codemirror_mode": {
    "name": "ipython",
    "version": 3
   },
   "file_extension": ".py",
   "mimetype": "text/x-python",
   "name": "python",
   "nbconvert_exporter": "python",
   "pygments_lexer": "ipython3",
   "version": "3.12.8"
  }
 },
 "nbformat": 4,
 "nbformat_minor": 2
}
